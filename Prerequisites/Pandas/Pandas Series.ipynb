{
 "cells": [
  {
   "cell_type": "code",
   "execution_count": 1,
   "id": "008ae3f0",
   "metadata": {},
   "outputs": [],
   "source": [
    "import numpy as np\n",
    "import pandas as pd"
   ]
  },
  {
   "cell_type": "code",
   "execution_count": 13,
   "id": "d798565d",
   "metadata": {},
   "outputs": [],
   "source": [
    "labels = ['A','B','C']\n",
    "values = [12,13,14]\n",
    "d = np.array(values)"
   ]
  },
  {
   "cell_type": "code",
   "execution_count": 14,
   "id": "0ad83eb0",
   "metadata": {},
   "outputs": [
    {
     "data": {
      "text/plain": [
       "A    12\n",
       "B    13\n",
       "C    14\n",
       "dtype: int64"
      ]
     },
     "execution_count": 14,
     "metadata": {},
     "output_type": "execute_result"
    }
   ],
   "source": [
    "pd.Series(data = values,index = labels)"
   ]
  },
  {
   "cell_type": "code",
   "execution_count": 16,
   "id": "d0b9e30d",
   "metadata": {},
   "outputs": [],
   "source": [
    "dict_a =  {\"A\":10,\"B\":20}"
   ]
  },
  {
   "cell_type": "code",
   "execution_count": 17,
   "id": "fc705770",
   "metadata": {},
   "outputs": [
    {
     "data": {
      "text/plain": [
       "A    10\n",
       "B    20\n",
       "dtype: int64"
      ]
     },
     "execution_count": 17,
     "metadata": {},
     "output_type": "execute_result"
    }
   ],
   "source": [
    "pd.Series(dict_a)"
   ]
  },
  {
   "cell_type": "code",
   "execution_count": 19,
   "id": "8d6385f3",
   "metadata": {},
   "outputs": [
    {
     "data": {
      "text/plain": [
       "US     1\n",
       "IND    2\n",
       "UK     3\n",
       "dtype: int64"
      ]
     },
     "execution_count": 19,
     "metadata": {},
     "output_type": "execute_result"
    }
   ],
   "source": [
    "ser1 = pd.Series([1,2,3],[\"US\",\"IND\",\"UK\"])\n",
    "ser1"
   ]
  },
  {
   "cell_type": "code",
   "execution_count": 21,
   "id": "1131c244",
   "metadata": {},
   "outputs": [
    {
     "data": {
      "text/plain": [
       "US     10\n",
       "IND    21\n",
       "CHN    32\n",
       "dtype: int64"
      ]
     },
     "execution_count": 21,
     "metadata": {},
     "output_type": "execute_result"
    }
   ],
   "source": [
    "ser2 = pd.Series([10,21,32],[\"US\",\"IND\",\"CHN\"])\n",
    "ser2"
   ]
  },
  {
   "cell_type": "code",
   "execution_count": 22,
   "id": "d499d097",
   "metadata": {},
   "outputs": [
    {
     "data": {
      "text/plain": [
       "CHN     NaN\n",
       "IND    23.0\n",
       "UK      NaN\n",
       "US     11.0\n",
       "dtype: float64"
      ]
     },
     "execution_count": 22,
     "metadata": {},
     "output_type": "execute_result"
    }
   ],
   "source": [
    "ser1 + ser2"
   ]
  }
 ],
 "metadata": {
  "kernelspec": {
   "display_name": "Python 3 (ipykernel)",
   "language": "python",
   "name": "python3"
  },
  "language_info": {
   "codemirror_mode": {
    "name": "ipython",
    "version": 3
   },
   "file_extension": ".py",
   "mimetype": "text/x-python",
   "name": "python",
   "nbconvert_exporter": "python",
   "pygments_lexer": "ipython3",
   "version": "3.9.13"
  }
 },
 "nbformat": 4,
 "nbformat_minor": 5
}
