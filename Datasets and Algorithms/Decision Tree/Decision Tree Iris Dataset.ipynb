{
 "cells": [
  {
   "cell_type": "code",
   "execution_count": 19,
   "id": "6c34ac5d",
   "metadata": {},
   "outputs": [],
   "source": [
    "from sklearn import datasets\n",
    "from sklearn.tree import DecisionTreeClassifier\n",
    "from sklearn.tree import export_graphviz"
   ]
  },
  {
   "cell_type": "code",
   "execution_count": 3,
   "id": "79b20dc2",
   "metadata": {},
   "outputs": [],
   "source": [
    "iris = datasets.load_iris()"
   ]
  },
  {
   "cell_type": "code",
   "execution_count": 4,
   "id": "bf9b9df0",
   "metadata": {},
   "outputs": [],
   "source": [
    "from sklearn.model_selection import train_test_split\n",
    "X_train,X_test,Y_train,Y_test = train_test_split(iris.data,iris.target,random_state=1) "
   ]
  },
  {
   "cell_type": "code",
   "execution_count": 16,
   "id": "3028757e",
   "metadata": {},
   "outputs": [],
   "source": [
    "alg = DecisionTreeClassifier()\n",
    "alg.fit(X_train,Y_train)"
   ]
  },
  {
   "cell_type": "code",
   "execution_count": 27,
   "id": "c6ef473c",
   "metadata": {},
   "outputs": [],
   "source": [
    "doc_data = export_graphviz(alg,out_file=None) #generating graph(decision tree) for algo  "
   ]
  },
  {
   "cell_type": "code",
   "execution_count": 20,
   "id": "68f77a36",
   "metadata": {},
   "outputs": [],
   "source": [
    "y_train_pred = alg.predict(X_train) \n",
    "y_test_pred = alg.predict(X_test) #test predictions"
   ]
  },
  {
   "cell_type": "code",
   "execution_count": 22,
   "id": "5224b341",
   "metadata": {},
   "outputs": [
    {
     "data": {
      "text/plain": [
       "array([[37,  0,  0],\n",
       "       [ 0, 34,  0],\n",
       "       [ 0,  0, 41]], dtype=int64)"
      ]
     },
     "execution_count": 22,
     "metadata": {},
     "output_type": "execute_result"
    }
   ],
   "source": [
    "from sklearn.metrics import confusion_matrix\n",
    "confusion_matrix(Y_train,y_train_pred) #giving 100% accuracy ...may be trying to overfit"
   ]
  },
  {
   "cell_type": "code",
   "execution_count": 23,
   "id": "47886ebb",
   "metadata": {},
   "outputs": [
    {
     "data": {
      "text/plain": [
       "array([[13,  0,  0],\n",
       "       [ 0, 15,  1],\n",
       "       [ 0,  0,  9]], dtype=int64)"
      ]
     },
     "execution_count": 23,
     "metadata": {},
     "output_type": "execute_result"
    }
   ],
   "source": [
    "confusion_matrix(Y_test,y_test_pred)"
   ]
  }
 ],
 "metadata": {
  "kernelspec": {
   "display_name": "Python 3 (ipykernel)",
   "language": "python",
   "name": "python3"
  },
  "language_info": {
   "codemirror_mode": {
    "name": "ipython",
    "version": 3
   },
   "file_extension": ".py",
   "mimetype": "text/x-python",
   "name": "python",
   "nbconvert_exporter": "python",
   "pygments_lexer": "ipython3",
   "version": "3.9.13"
  }
 },
 "nbformat": 4,
 "nbformat_minor": 5
}
