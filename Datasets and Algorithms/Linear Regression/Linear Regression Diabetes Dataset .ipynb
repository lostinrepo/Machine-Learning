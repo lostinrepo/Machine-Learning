{
 "cells": [
  {
   "cell_type": "code",
   "execution_count": 10,
   "id": "7a16a6bf",
   "metadata": {},
   "outputs": [],
   "source": [
    "import numpy as np \n",
    "import pandas as pd"
   ]
  },
  {
   "cell_type": "code",
   "execution_count": 31,
   "id": "51aa5d89",
   "metadata": {},
   "outputs": [
    {
     "name": "stdout",
     "output_type": "stream",
     "text": [
      "(331, 11)\n",
      "(111, 10)\n"
     ]
    }
   ],
   "source": [
    "train_data=np.loadtxt('training_diabetes_x_y_train.csv', delimiter=',')\n",
    "test_data=np.loadtxt('test_diabetes_x_test.csv', delimiter=',')\n",
    "print(train_data.shape)\n",
    "print(test_data.shape)"
   ]
  },
  {
   "cell_type": "code",
   "execution_count": 44,
   "id": "51464694",
   "metadata": {},
   "outputs": [
    {
     "name": "stdout",
     "output_type": "stream",
     "text": [
      "(331, 10)\n",
      "(331, 1)\n",
      "(111, 10)\n"
     ]
    }
   ],
   "source": [
    "X_train=train_data[:, :10]\n",
    "print(X_train.shape)\n",
    "Y_train=train_data[:, 10:]\n",
    "print(Y_train.shape)\n",
    "X_test = test_data\n",
    "print(X_test.shape)"
   ]
  },
  {
   "cell_type": "code",
   "execution_count": 49,
   "id": "01b4a390",
   "metadata": {},
   "outputs": [],
   "source": [
    "from sklearn.linear_model import LinearRegression\n",
    "alg = LinearRegression()\n",
    "alg.fit(X_train,Y_train)\n",
    "y_pred = alg.predict(X_test)\n",
    "y_pred = np.round(y_pred,decimals = 5)\n",
    "np.savetxt('predictions.csv', y_pred, delimiter=',')\n",
    "\n"
   ]
  }
 ],
 "metadata": {
  "kernelspec": {
   "display_name": "Python 3 (ipykernel)",
   "language": "python",
   "name": "python3"
  },
  "language_info": {
   "codemirror_mode": {
    "name": "ipython",
    "version": 3
   },
   "file_extension": ".py",
   "mimetype": "text/x-python",
   "name": "python",
   "nbconvert_exporter": "python",
   "pygments_lexer": "ipython3",
   "version": "3.9.13"
  }
 },
 "nbformat": 4,
 "nbformat_minor": 5
}
