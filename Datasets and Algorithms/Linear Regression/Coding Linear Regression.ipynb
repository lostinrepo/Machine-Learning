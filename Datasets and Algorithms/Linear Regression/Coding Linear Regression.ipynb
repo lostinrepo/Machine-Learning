{
 "cells": [
  {
   "cell_type": "code",
   "execution_count": 12,
   "metadata": {},
   "outputs": [],
   "source": [
    "import numpy as np"
   ]
  },
  {
   "cell_type": "code",
   "execution_count": 13,
   "metadata": {},
   "outputs": [],
   "source": [
    "data = np.loadtxt(\"data.csv\", delimiter=\",\")"
   ]
  },
  {
   "cell_type": "code",
   "execution_count": 14,
   "metadata": {},
   "outputs": [],
   "source": [
    "x = data[:, 0]\n",
    "y = data[:, 1]"
   ]
  },
  {
   "cell_type": "code",
   "execution_count": 15,
   "metadata": {},
   "outputs": [
    {
     "data": {
      "text/plain": [
       "(100,)"
      ]
     },
     "execution_count": 15,
     "metadata": {},
     "output_type": "execute_result"
    }
   ],
   "source": [
    "x.shape"
   ]
  },
  {
   "cell_type": "code",
   "execution_count": 16,
   "metadata": {},
   "outputs": [
    {
     "data": {
      "text/plain": [
       "(70,)"
      ]
     },
     "execution_count": 16,
     "metadata": {},
     "output_type": "execute_result"
    }
   ],
   "source": [
    "from sklearn import model_selection\n",
    "X_train, X_test, Y_train, Y_test = model_selection.train_test_split(x, y, test_size=0.3)\n",
    "X_train.shape"
   ]
  },
  {
   "cell_type": "code",
   "execution_count": 18,
   "metadata": {},
   "outputs": [],
   "source": [
    "def fit(x_train, y_train):\n",
    "    num = (x_train*y_train).mean() - x_train.mean() * y_train.mean()\n",
    "    den = (x_train**2).mean() - x_train.mean()**2\n",
    "    m = num/den\n",
    "    c = y_train.mean() - m * x_train.mean()\n",
    "    return m, c\n",
    "    "
   ]
  },
  {
   "cell_type": "code",
   "execution_count": 23,
   "metadata": {},
   "outputs": [],
   "source": [
    "def predict(x, m, c):\n",
    "    return m * x + c\n",
    "\n",
    "def score(y_test, y_pred):\n",
    "    #1-u/v\n",
    "    u = ((y_test - y_pred)**2).sum()\n",
    "    v = ((y_test - y_test.mean())**2).sum()\n",
    "    return 1 - u/v\n",
    "\n",
    "def cost_error(x, y, m , c):\n",
    "    return ((y - m * x - c)**2).mean()"
   ]
  },
  {
   "cell_type": "code",
   "execution_count": 27,
   "metadata": {},
   "outputs": [
    {
     "name": "stdout",
     "output_type": "stream",
     "text": [
      "Test Score:  0.43427822762494506\n",
      "Train Score:  0.6225586027985872\n",
      "M, C  1.5016766567610895 0.7776813052280147\n",
      "Cost/Error 107.80974250162309\n"
     ]
    }
   ],
   "source": [
    "m, c = fit(X_train, Y_train)\n",
    "# test data\n",
    "y_test_pred = predict(X_test, m, c)\n",
    "print(\"Test Score: \",score(Y_test, y_test_pred))\n",
    "\n",
    "#train data\n",
    "y_train_pred = predict(X_train, m, c)\n",
    "print(\"Train Score: \", score(Y_train, y_train_pred))\n",
    "print(\"M, C \", m , c)\n",
    "print(\"Cost/Error\", cost_error(X_train,Y_train, m, c ))"
   ]
  },
  {
   "cell_type": "code",
   "execution_count": null,
   "metadata": {
    "collapsed": true
   },
   "outputs": [],
   "source": []
  }
 ],
 "metadata": {
  "kernelspec": {
   "display_name": "Python 3 (ipykernel)",
   "language": "python",
   "name": "python3"
  },
  "language_info": {
   "codemirror_mode": {
    "name": "ipython",
    "version": 3
   },
   "file_extension": ".py",
   "mimetype": "text/x-python",
   "name": "python",
   "nbconvert_exporter": "python",
   "pygments_lexer": "ipython3",
   "version": "3.9.13"
  }
 },
 "nbformat": 4,
 "nbformat_minor": 2
}
